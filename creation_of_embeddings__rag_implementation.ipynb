{
  "cells": [
    {
      "cell_type": "code",
      "execution_count": null,
      "metadata": {
        "id": "tDcZrD6syJD4"
      },
      "outputs": [],
      "source": [
        "%pip install langchain\n",
        "%pip install openai\n",
        "%pip install pandas\n",
        "%pip install langchain_community\n",
        "%pip install pinecone-client\n",
        "%pip install tqdm\n",
        "%pip install llama-index\n",
        "%pip install llama-index-vector-stores-pinecone\n",
        "%pip install -q cohere llama-index-postprocessor-cohere-rerank"
      ]
    },
    {
      "cell_type": "code",
      "execution_count": 31,
      "metadata": {
        "id": "KvMMpbWHDDKY"
      },
      "outputs": [],
      "source": [
        "import os"
      ]
    },
    {
      "cell_type": "code",
      "execution_count": 1,
      "metadata": {
        "id": "XLlM81rXyO2f"
      },
      "outputs": [],
      "source": [
        "#creation of index\n",
        "from pinecone import Pinecone, ServerlessSpec\n",
        "pc = Pinecone(os.environ['PINECONE_API_KEY'])"
      ]
    },
    {
      "cell_type": "code",
      "execution_count": null,
      "metadata": {
        "id": "fokDJ9RjzocW"
      },
      "outputs": [],
      "source": [
        "pc.create_index(\n",
        "    name=\"benchmark-book-data\",\n",
        "    dimension=1536,\n",
        "    metric=\"cosine\",\n",
        "    spec=ServerlessSpec(\n",
        "        cloud=\"aws\",\n",
        "        region=\"us-east-1\"\n",
        "    )\n",
        ")"
      ]
    },
    {
      "cell_type": "code",
      "execution_count": 2,
      "metadata": {
        "colab": {
          "base_uri": "https://localhost:8080/"
        },
        "id": "NbVdyONVzuxq",
        "outputId": "8d145720-2ce8-4e8e-d06d-145c8b762943"
      },
      "outputs": [
        {
          "data": {
            "text/plain": [
              "{'dimension': 1536,\n",
              " 'index_fullness': 0.0,\n",
              " 'namespaces': {'': {'vector_count': 5001}},\n",
              " 'total_vector_count': 5001}"
            ]
          },
          "execution_count": 2,
          "metadata": {},
          "output_type": "execute_result"
        }
      ],
      "source": [
        "index = pc.Index(\"benchmark-book-data\")\n",
        "index.describe_index_stats()"
      ]
    },
    {
      "cell_type": "code",
      "execution_count": 3,
      "metadata": {
        "id": "PzxEEdubz1tD"
      },
      "outputs": [],
      "source": [
        "from langchain.document_loaders import CSVLoader\n",
        "from openai import OpenAI\n",
        "openai.api_key = os.environ['OPENAI_API_KEY']\n",
        "current_directory = os.getcwd()"
      ]
    },
    {
      "cell_type": "code",
      "execution_count": 4,
      "metadata": {
        "id": "64HAXXnZ6jNG"
      },
      "outputs": [],
      "source": [
        "client = OpenAI()\n",
        "def get_embedding(text, model=\"text-embedding-3-small\"):\n",
        "   text = text.replace(\"\\n\", \" \")\n",
        "   return client.embeddings.create(input = [text], model=model).data[0].embedding"
      ]
    },
    {
      "cell_type": "code",
      "execution_count": null,
      "metadata": {
        "id": "FvhL_igo0s8e"
      },
      "outputs": [],
      "source": [
        "loader =  CSVLoader(file_path= current_directory + '\\\\benchmark_book_dataset.csv',\n",
        "                    metadata_columns=['Title', 'description','authors','publisher','publishedDate','categories','Price', 'profileName', 'review/score', 'review/summary', 'review/text'],\n",
        "                    source_column=\"Title\",\n",
        "                    encoding='utf-8',\n",
        "    csv_args={\n",
        "    'delimiter': ',',\n",
        "    'quotechar': '\"',\n",
        "    'fieldnames': ['Title', 'description','authors','publisher','publishedDate','categories','Price', 'profileName', 'review/score', 'review/summary', 'review/text'],\n",
        "})"
      ]
    },
    {
      "cell_type": "code",
      "execution_count": null,
      "metadata": {
        "id": "ltG607v01Io2"
      },
      "outputs": [],
      "source": [
        "data = loader.load()"
      ]
    },
    {
      "cell_type": "code",
      "execution_count": null,
      "metadata": {
        "colab": {
          "base_uri": "https://localhost:8080/"
        },
        "collapsed": true,
        "id": "T0p4hNHQ85-a",
        "outputId": "4994d8aa-d0d0-406a-cc07-fed01e7f5046"
      },
      "outputs": [
        {
          "data": {
            "text/plain": [
              "{'source': 'Whispers of the Wicked Saints',\n",
              " 'row': 1,\n",
              " 'Title': 'Whispers of the Wicked Saints',\n",
              " 'description': 'Julia Thomas finds her life spinning out of control after the death of her husband, Richard. Julia turns to her minister for comfort when she finds herself falling for him with a passion that is forbidden by the church. Heath Sparks is a man of God who is busy taking care of his quadriplegic wife who was seriously injured in a sever car accident. In an innocent effort to reach out to a lonely member of his church, Heath finds himself as the man and not the minister as Heath and Julia surrender their bodies to each other and face the wrath of God. Julia finds herself in over her head as she faces a deadly disease, the loss of her home and whispers about her wicked affair. Julia leaves the states offering her body as a living sacrifice in hopes of finding a cure while her heart remains thousands of miles away hoping to one day reunite with the man who holds it hostage.Whispers of the Wicked Saints is a once in a lifetime romance that is breath taking, defying all the rules of romance and bending the laws of love.',\n",
              " 'authors': \"['Veronica Haddon']\",\n",
              " 'publisher': 'iUniverse',\n",
              " 'publishedDate': '2005-02',\n",
              " 'categories': \"['Fiction']\",\n",
              " 'Price': '10.95',\n",
              " 'profileName': 'Book Reader',\n",
              " 'review/score': '1',\n",
              " 'review/summary': 'not good',\n",
              " 'review/text': \"I bought this book because I read some glowing praise on an online library site. Unfortunately, I was deeply disappointed by page three. I always buy books in the hope and expectation of having an enjoyable read, not to criticise. However, this book is in urgent need of good editing -- though quite possibly editing alone wouldn't save it. Examples: a bed squeaks slightly and sharply in the same sentence; a nightgown hangs freely over her girlish figure and olive colored complexion; coffee aromas huddle; rumbling clouds huddle (as well as the coffee?); she prepared to sip her coffee beneath the wrath of God... cuddled within the arms of a strong breeze; (the wrath of God is a breeze?); the Columbian (stet) coffee aroma danced beneath her sculpted tan nose; the coffee bean fragrance tangoed within her body; she placed her thick pink lips against the warm cup;... and so on, all by page three. It is quite possible that the storyline is deeply moving. I'll never know because I can't bring myself to continue. Sorry.\"}"
            ]
          },
          "execution_count": 14,
          "metadata": {},
          "output_type": "execute_result"
        }
      ],
      "source": [
        "data[1].metadata"
      ]
    },
    {
      "cell_type": "code",
      "execution_count": null,
      "metadata": {
        "id": "InsYOlLS8rf1"
      },
      "outputs": [],
      "source": [
        "# Combine relevant fields to create the page_content\n",
        "for doc in data:\n",
        "    metadata = doc.metadata\n",
        "    page_content = f\"Title: {metadata.get('Title', '')}\\nDescription: {metadata.get('description', '')}\\nAuthors: {metadata.get('authors', '')}\\nPublisher: {metadata.get('publisher', '')}\\nPublishedDate: {metadata.get('publishedDate', '')}\\nCategories: {metadata.get('categories', '')}\\nReview Summary: {metadata.get('review/summary', '')}\\nReview Text: {metadata.get('review/text', '')}\\nPrice: {metadata.get('Price', '')}\"\n",
        "    doc.page_content = page_content"
      ]
    },
    {
      "cell_type": "code",
      "execution_count": null,
      "metadata": {
        "colab": {
          "base_uri": "https://localhost:8080/"
        },
        "collapsed": true,
        "id": "PvVXfE6R68w6",
        "outputId": "399780f5-599e-4783-b6d9-06f1500f2a41"
      },
      "outputs": [
        {
          "data": {
            "text/plain": [
              "{'source': 'The Jacket',\n",
              " 'row': 3444,\n",
              " 'Title': 'The Jacket',\n",
              " 'description': 'When Greg Eagles discovers his old college jacket in a mysterious warehouse, he is sent back in time to his youth with a chance for a new beginning. But the past holds horrors that Greg and his new friend, Wanda Jagr, must fight to save their lives and their futures. When the two friends meet the malignant professor, Stan Beazel, Fundy University becomes a campus of terror.',\n",
              " 'authors': \"['Charles Elgee']\",\n",
              " 'publisher': 'iUniverse',\n",
              " 'publishedDate': '2000-09-01',\n",
              " 'categories': \"['Fiction']\",\n",
              " 'Price': '12.95',\n",
              " 'profileName': 'Beth Robichaud',\n",
              " 'review/score': '5',\n",
              " 'review/summary': 'Awesome Plot! A Real Original.',\n",
              " 'review/text': \"I thoroughly enjoyed reading this book! The story was original, and the author's style of writing flows very nicely. It's a Suspense/Thriller told with a bit of humour. I'm looking forward to reading more from this author in the future.\"}"
            ]
          },
          "execution_count": 32,
          "metadata": {},
          "output_type": "execute_result"
        }
      ],
      "source": [
        "data[3444].metadata"
      ]
    },
    {
      "cell_type": "code",
      "execution_count": null,
      "metadata": {
        "id": "4o7J2WUVS-Hf"
      },
      "outputs": [],
      "source": [
        "#storing embeddings and the corresponding metadata for the first 5000 rows\n",
        "from tqdm import tqdm\n",
        "\n",
        "for i, doc in tqdm(enumerate(data), total=min(len(data), 5000)):\n",
        "    index_value = i + start_index\n",
        "    print(index_value)\n",
        "    text = data[index_value].page_content\n",
        "    metadata = data[index_value].metadata\n",
        "    vector = get_embedding(text)\n",
        "    print(metadata['Title'])\n",
        "    index.upsert([\n",
        "        {\n",
        "            \"id\": f\"{metadata['row']}\",\n",
        "            \"values\": vector,\n",
        "            \"metadata\": metadata\n",
        "        }\n",
        "    ])"
      ]
    },
    {
      "cell_type": "code",
      "execution_count": 38,
      "metadata": {
        "id": "R9h96ibX4agu"
      },
      "outputs": [],
      "source": [
        "#Imports for using various RAG techniques\n",
        "from llama_index.vector_stores.pinecone import PineconeVectorStore\n",
        "from llama_index.llms.openai import OpenAI as OAI\n",
        "from llama_index.embeddings.openai import OpenAIEmbedding\n",
        "from llama_index.core.query_engine import TransformQueryEngine, RetrieverQueryEngine\n",
        "from llama_index.core.retrievers import QueryFusionRetriever\n",
        "from llama_index.core import VectorStoreIndex, PromptTemplate, ServiceContext"
      ]
    },
    {
      "cell_type": "code",
      "execution_count": 6,
      "metadata": {
        "id": "NeRcE9n4EKLx"
      },
      "outputs": [],
      "source": [
        "vector_store = PineconeVectorStore(pinecone_index=index, text_key=\"row\")\n",
        "vector_store.index_name = \"benchmark-book-data\""
      ]
    },
    {
      "cell_type": "code",
      "execution_count": 9,
      "metadata": {
        "id": "sOzYrXO_tKJA"
      },
      "outputs": [],
      "source": [
        "def prettify_review(response):\n",
        "    print(\"Review Summary:\")\n",
        "    print(response.response)\n",
        "    print(\"\\nDetails:\")\n",
        "\n",
        "    for node in response.source_nodes:\n",
        "        metadata = node.node.metadata\n",
        "        print(f\"\\nTitle: {metadata['Title']}\")\n",
        "        print(f\"Row: {node.node}\")\n",
        "        print(f\"Author(s): {', '.join(eval(metadata['authors']))}\")\n",
        "        print(f\"Price: ${metadata['Price']}\")\n",
        "        print(f\"Published Date: {metadata['publishedDate']}\")\n",
        "        print(f\"Publisher: {metadata['publisher']}\")\n",
        "        print(f\"Rating: {metadata['review/score']} stars\")\n",
        "        print(f\"Review Summary: {metadata['review/summary']}\")\n",
        "        print(f\"Review Text: {metadata['review/text']}\")\n",
        "        print(f\"Source: {metadata['source']}\")\n",
        "\n"
      ]
    },
    {
      "cell_type": "code",
      "execution_count": 7,
      "metadata": {
        "id": "UgQwSHXYEroG"
      },
      "outputs": [],
      "source": [
        "index_vector = VectorStoreIndex.from_vector_store(vector_store=vector_store)\n",
        "llm = OAI(model=\"gpt-3.5-turbo\", temperature=0.0)\n",
        "text_qa_template_str = \"\"\"\n",
        "You are an expert Q&A system that is trusted around the world for your factual accuracy.\n",
        "Always answer the query using the provided context information, and not prior knowledge. Ensure your answers are fact-based and accurately reflect the context provided.\n",
        "Some rules to follow:\n",
        "1. Never directly reference the given context in your answer.\n",
        "2. Avoid statements like 'Based on the context, ...' or 'The context information ...' or anything along those lines.\n",
        "3. Provide responses that are informative and descriptive, such that the response looks as if it was answered by a human.\n",
        "---------------------\n",
        "{context_str}\n",
        "---------------------\n",
        "Given the context information and not prior knowledge, answer the query.\n",
        "Query: {query_str}\n",
        "Answer:\n",
        "\"\"\"\n",
        "text_qa_template = PromptTemplate(text_qa_template_str)"
      ]
    },
    {
      "cell_type": "code",
      "execution_count": 19,
      "metadata": {
        "id": "o6TlmVr9E1GJ"
      },
      "outputs": [],
      "source": [
        "#naive rag\n",
        "query_engine_naive = index_vector.as_query_engine(llm = llm,\n",
        "                                           text_qa_template=text_qa_template,\n",
        "                                           similarity_top_k=10,\n",
        "                                           embed_model=OpenAIEmbedding(model=\"text-embedding-3-small\"))"
      ]
    },
    {
      "cell_type": "code",
      "execution_count": 76,
      "metadata": {
        "colab": {
          "base_uri": "https://localhost:8080/"
        },
        "collapsed": true,
        "id": "c54ISjGlsNI9",
        "outputId": "385a3440-b8f7-4abc-d17a-bf1574872a89"
      },
      "outputs": [
        {
          "name": "stdout",
          "output_type": "stream",
          "text": [
            "Review Summary:\n",
            "The reviews for \"Whispers of the Wicked Saints\" vary. Some readers found the book to be captivating and engaging, praising its unique storyline and emotional depth. They appreciated the author's ability to draw them into the lives of the characters and create a compelling narrative. However, there were also criticisms about errors in the book, particularly on the back cover, which some readers found disappointing. Despite this, many readers still enjoyed the book and recommended it to others, highlighting its heartwarming and realistic elements. Overall, opinions on the book were mixed, with some readers loving it and others pointing out flaws.\n",
            "\n",
            "Details:\n",
            "\n",
            "Title: Whispers of the Wicked Saints\n",
            "Author(s): Veronica Haddon\n",
            "Price: $10.95\n",
            "Published Date: 2005-02\n",
            "Publisher: iUniverse\n",
            "Rating: 5 stars\n",
            "Review Summary: The truth about WOTWS\n",
            "Review Text: I have to say that my friends at work all read this book and loved it. It was brought to our attention that there are negative reviews on this book that are false. For example the traveling librarian? We had a discussion about this book at work and the review of the traveling librarian is completely false. I pulled out the book and realized that these are lies and that someone is trying to ruin this book. The book never states that a garden is ten miles long. On page 62 it clearly states that the garden is five acres. No heartbeat of a fetus was heard at a week. How could it be? Julia was not even aware of the pregnancy at that time. The preacher never went to the house to give condolences, after reading the book once again it is obvious that he was there to fix the barn. So...on and ect... I also looked at the reviews &lt;history> all but one of the bad reviews is writen by someone who has never reviewed a book on amazon before. Veronica Haddon if you are reading this you need to write a letter to Amazon. Someon is playing a prank on you !!\n",
            "Source: Whispers of the Wicked Saints\n",
            "\n",
            "Title: Whispers of the Wicked Saints\n",
            "Author(s): Veronica Haddon\n",
            "Price: $10.95\n",
            "Published Date: 2005-02\n",
            "Publisher: iUniverse\n",
            "Rating: 4 stars\n",
            "Review Summary: Here is my opinion\n",
            "Review Text: I have to admit, I am not one to write reviews on book. I do however like to read them. Some of the reviews are great, some are cruel, but the reviews on this book were absolutlely hysterical. I read this book and after watching the war of the words I couldn't help, but to jump in. I am on the good side of the book. I loved how it kept my intersted. On the bad side I have to say, there was a typo featured on the back cover and the secret to liking this book is making it through the first chapter. I have to admit I was a little curious when I read some of the reviews. They were so mean and false that it spiked my curiosity. I then like the last review noticed that the \"Traveling librarian\" wrote a completely ignorant review on this book. My first thought was wait a minute, that was not the book that I read. I read my copy once again and realized her entire review was fabricated. Then I knew, it was some kind of game. Maybe it is someone who dislikes the author for personal reasons, that has posted more then one awful review, or maybe this is another who is jealous, Who knows? All I know is that I liked the book, and future readers take the advice of the ignorant with a grain of salt.\n",
            "Source: Whispers of the Wicked Saints\n",
            "\n",
            "Title: Whispers of the Wicked Saints\n",
            "Author(s): Veronica Haddon\n",
            "Price: $10.95\n",
            "Published Date: 2005-02\n",
            "Publisher: iUniverse\n",
            "Rating: 5 stars\n",
            "Review Summary: Glorious story\n",
            "Review Text: I loved Whisper of the wicked saints. The story was amazing and I was pleasantly surprised at the changes in the book. I am not normaly someone who is into romance novels, but the world was raving about this book and so I bought it. I loved it !! This is a brilliant story because it is so true. This book was so wonderful that I have told all of my friends to read it. It is not a typical romance, it is so much more. Not reading this book is a crime, becuase you are missing out on a heart warming story.\n",
            "Source: Whispers of the Wicked Saints\n",
            "\n",
            "Title: Whispers of the Wicked Saints\n",
            "Author(s): Veronica Haddon\n",
            "Price: $10.95\n",
            "Published Date: 2005-02\n",
            "Publisher: iUniverse\n",
            "Rating: 5 stars\n",
            "Review Summary: Whispers of the Wicked Saints\n",
            "Review Text: This was a easy to read book that made me want to keep reading on and on, not easy to put down.It left me wanting to read the follow on, which I hope is coming soon. I used to read a lot but have gotten away from it. This book made me want to read again. Very enjoyable.\n",
            "Source: Whispers of the Wicked Saints\n",
            "\n",
            "Title: Whispers of the Wicked Saints\n",
            "Author(s): Veronica Haddon\n",
            "Price: $10.95\n",
            "Published Date: 2005-02\n",
            "Publisher: iUniverse\n",
            "Rating: 4 stars\n",
            "Review Summary: Errors, but great story\n",
            "Review Text: I was a dissapointed to see errors on the back cover, but since I paid for the book I read it anyway. I have to say I love it. I couldn't put it down. I read the whole book in two hours. I say buy it. I say read it. It is sad, but it gives an interesting point of view on church today. We spend too much time looking at the faults of others. I also enjoyed beloved.Sincerly,Jaylynn R\n",
            "Source: Whispers of the Wicked Saints\n",
            "\n",
            "Title: Whispers of the Wicked Saints\n",
            "Author(s): Veronica Haddon\n",
            "Price: $10.95\n",
            "Published Date: 2005-02\n",
            "Publisher: iUniverse\n",
            "Rating: 1 stars\n",
            "Review Summary: Don't try to fool us with fake reviews.\n",
            "Review Text: It's glaringly obvious that all of the glowing reviews have been written by the same person, perhaps the author herself. They all have the same misspellings and poor sentence structure that is featured in the book. Who made Veronica Haddon think she is an author?\n",
            "Source: Whispers of the Wicked Saints\n",
            "\n",
            "Title: Whispers of the Wicked Saints\n",
            "Author(s): Veronica Haddon\n",
            "Price: $10.95\n",
            "Published Date: 2005-02\n",
            "Publisher: iUniverse\n",
            "Rating: 5 stars\n",
            "Review Summary: How could someone not love this ??\n",
            "Review Text: I am an avid reader and I was shocked at how hooked I became on this book. I thought the first chapter was a little long and a little too discriptive, but truth be told after that I could not put this down. I read the other reviews on Whispers of the wicked saints before I wrote this and I saw one bad review that was written by someone who admitedly did not read this book. Don't take the advice of the ignorant, this book is an absolute must for romance fans. I give it five stars !!\n",
            "Source: Whispers of the Wicked Saints\n",
            "\n",
            "Title: Whispers of the Wicked Saints\n",
            "Author(s): Veronica Haddon\n",
            "Price: $10.95\n",
            "Published Date: 2005-02\n",
            "Publisher: iUniverse\n",
            "Rating: 4 stars\n",
            "Review Summary: Whispers of the Wicked Saints\n",
            "Review Text: I really enjoyed this book, sure this author is just starting out, but I still really liked it. How many books have the reviewers that hated this book wrote and got published? I read a lot, and I always have. I don't usually like modern love stories, but I gave it a chance and found that I didn't want to put it down until I finished it. I look forward to reading her next book and no I'm not a family member or a friend. Just give her book a chance and you might just find that it really is pretty good.\n",
            "Source: Whispers of the Wicked Saints\n",
            "\n",
            "Title: Whispers of the Wicked Saints\n",
            "Author(s): Veronica Haddon\n",
            "Price: $10.95\n",
            "Published Date: 2005-02\n",
            "Publisher: iUniverse\n",
            "Rating: 5 stars\n",
            "Review Summary: Luscious, hot forbidden love.!\n",
            "Review Text: This book was very discriptive and I actually found myself involved in the lives of the characters. If you ever get a chance to read this book, please do! I have found that the beginning of the book was a little too discriptive, but push through. The best is yet to come. You will definately find yourself wanting more. There was some parts in the book that made me HOT!! Veronica had a way with describing the places and the characters. I could actually see this story as if it were an actual movie. I really loved this book. If you are a romantic at heart and you love a great outcome, you must read Whispers of the Wicked Saints. GREAT, GREAT story!!\n",
            "Source: Whispers of the Wicked Saints\n",
            "\n",
            "Title: Whispers of the Wicked Saints\n",
            "Author(s): Veronica Haddon\n",
            "Price: $10.95\n",
            "Published Date: 2005-02\n",
            "Publisher: iUniverse\n",
            "Rating: 4 stars\n",
            "Review Summary: Wonderful, wonderful book !!\n",
            "Review Text: Just as predicted the first chapter of the book was long. I continued reading and then fell in love with WOTWS. It is heart warming and realistic. I thought it was a little depressing, but I quickly realized the writers point. There is a rainbow at the end of each storm. I did notice the error on the cover, but it only made me love the writer more. This writer is talented and she is not corporate, nor does it appear that she has a staff working for her. Her book was writen from the heart and that is what makes an American literary legend. I would rather read a book with an error then to read hollow perfection any day of the week.\n",
            "Source: Whispers of the Wicked Saints\n"
          ]
        }
      ],
      "source": [
        "prettify_review(query_engine_naive.query(\"What is the review of the book, Whispers of the Wicked Saints\"))"
      ]
    },
    {
      "cell_type": "code",
      "execution_count": 33,
      "metadata": {
        "id": "xgBYlUllE5IK"
      },
      "outputs": [],
      "source": [
        "#llm rerank\n",
        "from llama_index.core.postprocessor import LLMRerank\n",
        "\n",
        "llm_rerank = LLMRerank(choice_batch_size=15, top_n=10)\n",
        "query_engine_llm_rerank = index_vector.as_query_engine(\n",
        "    similarity_top_k=10,\n",
        "    text_qa_template=text_qa_template,\n",
        "    node_postprocessors=[llm_rerank],\n",
        "    embed_model=OpenAIEmbedding(model=\"text-embedding-3-small\"),\n",
        "    llm=llm\n",
        ")"
      ]
    },
    {
      "cell_type": "code",
      "execution_count": 34,
      "metadata": {
        "colab": {
          "base_uri": "https://localhost:8080/"
        },
        "id": "j6uhcL0RUwce",
        "outputId": "27207d2a-d70e-4d6e-ea18-df662d489e6d"
      },
      "outputs": [
        {
          "name": "stdout",
          "output_type": "stream",
          "text": [
            "Review Summary:\n",
            "The negative reviews for the book \"Whispers of the Wicked Saints\" highlight various issues such as poor grammar, typographical errors, weak plot, and lack of character development. Reviewers expressed disappointment in the quality of writing, with some even suggesting that the book may have been written by a middle-schooler. Additionally, there were mentions of misspellings throughout the book, distracting readers from the story. Overall, the negative reviews criticized the book for its lack of substance and quality, leading to a general consensus that it was not worth the money spent on it.\n",
            "\n",
            "Details:\n",
            "\n",
            "Title: Whispers of the Wicked Saints\n",
            "Row: Node ID: 26\n",
            "Text: 26.0\n",
            "Author(s): Veronica Haddon\n",
            "Price: $10.95\n",
            "Published Date: 2005-02\n",
            "Publisher: iUniverse\n",
            "Rating: 1 stars\n",
            "Review Summary: You've got to hand it to the author...\n",
            "Review Text: I purchased this book after reading rave reviews of it included within a review of a really good book I'd read. Apparently, the author (or her friends and family) are placing reviews of good books and encouraging people to buy this book if you liked the one they were reviewing. Great marketing by the author. However, the author should probably stick to marketing and give up the idea of being a writer. This book could have been written by a middle-schooler. It is a self-published, self-edited (and extremely poorly edited, I might add), and self-promoted lame excuse for a novel. My eyes rolled constantly while reading this book. Just when I thought it couldn't get worse...it did. The best part of this book is the short length. There is no substance, no character development, and the plot (if there actually is one) is pathetic. I generally trust the reviewers on Amazon. I really feel duped for purchasing this book after reading about it in Amazon's readers' reviews. Don't waste your money. The author should have printed only enough copies for family and friends. The rest of the population should be spared having to read this drivel.\n",
            "Source: Whispers of the Wicked Saints\n",
            "\n",
            "Title: Whispers of the Wicked Saints\n",
            "Row: Node ID: 25\n",
            "Text: 25.0\n",
            "Author(s): Veronica Haddon\n",
            "Price: $10.95\n",
            "Published Date: 2005-02\n",
            "Publisher: iUniverse\n",
            "Rating: 1 stars\n",
            "Review Summary: Awful beyond belief!\n",
            "Review Text: I feel I have to write to keep others from wasting their money. This book seems to have been written by a 7th grader with poor grammatical skills for her age! As another reviewer points out, there is a misspelling on the cover, and I believe there is at least one per chapter. For example, it was mentioned twice that she had a \"lean\" on her house. I was so distracted by the poor writing and weak plot, that I decided to read with a pencil in hand to mark all of the horrible grammar and spelling. Please don't waste your money. I too, believe that the good reviews must have been written by the author's relatives. I will not put much faith in the reviews from now on!\n",
            "Source: Whispers of the Wicked Saints\n",
            "\n",
            "Title: Whispers of the Wicked Saints\n",
            "Row: Node ID: 3\n",
            "Text: 3.0\n",
            "Author(s): Veronica Haddon\n",
            "Price: $10.95\n",
            "Published Date: 2005-02\n",
            "Publisher: iUniverse\n",
            "Rating: 1 stars\n",
            "Review Summary: Buyer beware\n",
            "Review Text: This is a self-published book, and if you want to know why--read a few paragraphs! Those 5 star reviews must have been written by Ms. Haddon's family and friends--or perhaps, by herself! I can't imagine anyone reading the whole thing--I spent an evening with the book and a friend and we were in hysterics reading bits and pieces of it to one another. It is most definitely bad enough to be entered into some kind of a \"worst book\" contest. I can't believe Amazon even sells this kind of thing. Maybe I can offer them my 8th grade term paper on \"To Kill a Mockingbird\"--a book I am quite sure Ms. Haddon never heard of. Anyway, unless you are in a mood to send a book to someone as a joke---stay far, far away from this one!\n",
            "Source: Whispers of the Wicked Saints\n",
            "\n",
            "Title: Whispers of the Wicked Saints\n",
            "Row: Node ID: 14\n",
            "Text: 14.0\n",
            "Author(s): Veronica Haddon\n",
            "Price: $10.95\n",
            "Published Date: 2005-02\n",
            "Publisher: iUniverse\n",
            "Rating: 1 stars\n",
            "Review Summary: The Worst!\n",
            "Review Text: A complete waste of time. Typographical errors, poor grammar, and a totally pathetic plot add up to absolutely nothing. I'm embarrassed for this author and very disappointed I actually paid for this book.\n",
            "Source: Whispers of the Wicked Saints\n"
          ]
        }
      ],
      "source": [
        "prettify_review(query_engine_llm_rerank.query(\"What are the negative reviews for the book, Whispers of the Wicked Saints\"))"
      ]
    },
    {
      "cell_type": "code",
      "execution_count": 27,
      "metadata": {
        "id": "gtzMXYsr1rsl"
      },
      "outputs": [],
      "source": [
        "from llama_index.postprocessor.cohere_rerank import CohereRerank\n",
        "\n",
        "# Cohere Rerank\n",
        "cohere_rerank = CohereRerank(api_key=os.environ['CO_API_KEY'], top_n=5)\n",
        "query_engine_cohere_rerank = index_vector.as_query_engine(\n",
        "    similarity_top_k=5,\n",
        "    text_qa_template=text_qa_template,\n",
        "    node_postprocessors=[cohere_rerank],\n",
        "    llm = llm,\n",
        "    verbose=True,\n",
        "    embed_model=OpenAIEmbedding(model=\"text-embedding-3-small\")\n",
        ")"
      ]
    },
    {
      "cell_type": "code",
      "execution_count": 16,
      "metadata": {
        "colab": {
          "base_uri": "https://localhost:8080/"
        },
        "collapsed": true,
        "id": "aO3XpifF3TjU",
        "outputId": "aebe1a83-06b1-440f-d1c7-f3b6103552f7"
      },
      "outputs": [
        {
          "name": "stdout",
          "output_type": "stream",
          "text": [
            "Review Summary:\n",
            "The negative reviews for the book \"Whispers of the Wicked Saints\" criticize the writing style, plot, and character development. Reviewers mention poor grammar, weak plot, and lack of substance in the novel. They highlight instances of unrealistic events and questionable character actions, such as sudden intimate encounters and improbable scenarios. Additionally, there are comments about the book being poorly edited and self-promoted, with suggestions that the positive reviews may not be genuine. Overall, the negative reviews express disappointment in the quality of the book and advise against purchasing it.\n",
            "\n",
            "Details:\n",
            "\n",
            "Title: Whispers of the Wicked Saints\n",
            "Row: Node ID: 25\n",
            "Text: 25.0\n",
            "Author(s): Veronica Haddon\n",
            "Price: $10.95\n",
            "Published Date: 2005-02\n",
            "Publisher: iUniverse\n",
            "Rating: 1 stars\n",
            "Review Summary: Awful beyond belief!\n",
            "Review Text: I feel I have to write to keep others from wasting their money. This book seems to have been written by a 7th grader with poor grammatical skills for her age! As another reviewer points out, there is a misspelling on the cover, and I believe there is at least one per chapter. For example, it was mentioned twice that she had a \"lean\" on her house. I was so distracted by the poor writing and weak plot, that I decided to read with a pencil in hand to mark all of the horrible grammar and spelling. Please don't waste your money. I too, believe that the good reviews must have been written by the author's relatives. I will not put much faith in the reviews from now on!\n",
            "Source: Whispers of the Wicked Saints\n",
            "\n",
            "Title: Whispers of the Wicked Saints\n",
            "Row: Node ID: 15\n",
            "Text: 15.0\n",
            "Author(s): Veronica Haddon\n",
            "Price: $10.95\n",
            "Published Date: 2005-02\n",
            "Publisher: iUniverse\n",
            "Rating: 5 stars\n",
            "Review Summary: The truth about WOTWS\n",
            "Review Text: I have to say that my friends at work all read this book and loved it. It was brought to our attention that there are negative reviews on this book that are false. For example the traveling librarian? We had a discussion about this book at work and the review of the traveling librarian is completely false. I pulled out the book and realized that these are lies and that someone is trying to ruin this book. The book never states that a garden is ten miles long. On page 62 it clearly states that the garden is five acres. No heartbeat of a fetus was heard at a week. How could it be? Julia was not even aware of the pregnancy at that time. The preacher never went to the house to give condolences, after reading the book once again it is obvious that he was there to fix the barn. So...on and ect... I also looked at the reviews &lt;history> all but one of the bad reviews is writen by someone who has never reviewed a book on amazon before. Veronica Haddon if you are reading this you need to write a letter to Amazon. Someon is playing a prank on you !!\n",
            "Source: Whispers of the Wicked Saints\n",
            "\n",
            "Title: Whispers of the Wicked Saints\n",
            "Row: Node ID: 32\n",
            "Text: 32.0\n",
            "Author(s): Veronica Haddon\n",
            "Price: $10.95\n",
            "Published Date: 2005-02\n",
            "Publisher: iUniverse\n",
            "Rating: 1 stars\n",
            "Review Summary: awful beyond belief\n",
            "Review Text: I can't remember the last time I read such a dire book. I howled with laughter all the way through, wondering how much worse it could get - and sure enough, it got worse. If the writing is bad, the plot is ludicrous. A preacher comes to offer condolences the same afternoon that the heroine's husband is shot dead. Within moments they are having sex. The sex is not sensually treated or beautifully described - no, all they do is stick their tongues down each other's throats. The preacher goes to tell his paralysed wife. Her bizarre response - wait for it - is to stick her tongue down his throat. No wonder he veers away. The heroine runs off to work in the heart of Liverpool in a rose garden ten miles long (I kid you not). Did I mention she is dying? But never mind, she'll make a miraculous recovery. She meets another man - even though, conveniently, he's dying too, and she's pregnant by the preacher by now (and, oh joy, she hears the heartbeat of the fetus at a week... truly, a miracle)! The other man lives in castle and is very rich. Of course. They consumate their affair when she sticks her tongue down his throat. Not to worry, she doesn't have to perform this crude tonsil-tickling for long. The preacher turns up again. Everyone in the way drops dead, leaving the coast free for the \"wicked saints\" of the title to romp without blame or shame into the sunset.I could have kicked myself for buying this book; but I had been fooled by reading a mention of it by a so-called reviewer of The Mermaid Chair (which is a good book.) Then I checked all the other reviews done by reviewers of Ms Haddon's book (you can click on \"other reviews\" to see what I mean) and believe I have spotted a scam. The reviewers appear to have chosen the same half dozen best sellers to review -- each on the same day! - and in each review of these other genuinely good books they mention Wicked Saints in the most glowing terms. This is cynical piggy-back riding on bona fide books, made worse because this is a very badly edited (and badly written) self published book. I hope few people will be fooled as I was - and as Amazon has been. Be warned!\n",
            "Source: Whispers of the Wicked Saints\n",
            "\n",
            "Title: Whispers of the Wicked Saints\n",
            "Row: Node ID: 2\n",
            "Text: 2.0\n",
            "Author(s): Veronica Haddon\n",
            "Price: $10.95\n",
            "Published Date: 2005-02\n",
            "Publisher: iUniverse\n",
            "Rating: 4 stars\n",
            "Review Summary: Here is my opinion\n",
            "Review Text: I have to admit, I am not one to write reviews on book. I do however like to read them. Some of the reviews are great, some are cruel, but the reviews on this book were absolutlely hysterical. I read this book and after watching the war of the words I couldn't help, but to jump in. I am on the good side of the book. I loved how it kept my intersted. On the bad side I have to say, there was a typo featured on the back cover and the secret to liking this book is making it through the first chapter. I have to admit I was a little curious when I read some of the reviews. They were so mean and false that it spiked my curiosity. I then like the last review noticed that the \"Traveling librarian\" wrote a completely ignorant review on this book. My first thought was wait a minute, that was not the book that I read. I read my copy once again and realized her entire review was fabricated. Then I knew, it was some kind of game. Maybe it is someone who dislikes the author for personal reasons, that has posted more then one awful review, or maybe this is another who is jealous, Who knows? All I know is that I liked the book, and future readers take the advice of the ignorant with a grain of salt.\n",
            "Source: Whispers of the Wicked Saints\n",
            "\n",
            "Title: Whispers of the Wicked Saints\n",
            "Row: Node ID: 26\n",
            "Text: 26.0\n",
            "Author(s): Veronica Haddon\n",
            "Price: $10.95\n",
            "Published Date: 2005-02\n",
            "Publisher: iUniverse\n",
            "Rating: 1 stars\n",
            "Review Summary: You've got to hand it to the author...\n",
            "Review Text: I purchased this book after reading rave reviews of it included within a review of a really good book I'd read. Apparently, the author (or her friends and family) are placing reviews of good books and encouraging people to buy this book if you liked the one they were reviewing. Great marketing by the author. However, the author should probably stick to marketing and give up the idea of being a writer. This book could have been written by a middle-schooler. It is a self-published, self-edited (and extremely poorly edited, I might add), and self-promoted lame excuse for a novel. My eyes rolled constantly while reading this book. Just when I thought it couldn't get worse...it did. The best part of this book is the short length. There is no substance, no character development, and the plot (if there actually is one) is pathetic. I generally trust the reviewers on Amazon. I really feel duped for purchasing this book after reading about it in Amazon's readers' reviews. Don't waste your money. The author should have printed only enough copies for family and friends. The rest of the population should be spared having to read this drivel.\n",
            "Source: Whispers of the Wicked Saints\n"
          ]
        }
      ],
      "source": [
        "prettify_review(query_engine_cohere_rerank.query(\"What are the negative reviews for the book, Whispers of the Wicked Saints\"))"
      ]
    },
    {
      "cell_type": "code",
      "execution_count": 36,
      "metadata": {
        "id": "eVfnS8V7E_0o"
      },
      "outputs": [],
      "source": [
        "from llama_index.core.indices.query.query_transform import HyDEQueryTransform\n",
        "\n",
        "# HyDE\n",
        "hyde = HyDEQueryTransform(include_original=True)\n",
        "query_engine_hyde = TransformQueryEngine(query_engine_naive, hyde)"
      ]
    },
    {
      "cell_type": "code",
      "execution_count": 40,
      "metadata": {
        "colab": {
          "base_uri": "https://localhost:8080/"
        },
        "id": "xicrbrnH5ULM",
        "outputId": "e0e454dd-e201-4b45-d325-63a40aa0ecd7"
      },
      "outputs": [
        {
          "name": "stdout",
          "output_type": "stream",
          "text": [
            "Review Summary:\n",
            "The negative reviews for the book \"Whispers of the Wicked Saints\" highlight various issues such as poor writing quality, weak plot development, typographical errors, and lack of editing. Reviewers mentioned instances of misspellings, grammatical errors, and unrealistic plot elements that made the reading experience unpleasant. Some reviewers also expressed disappointment in the book's content and felt that it did not live up to their expectations.\n",
            "\n",
            "Details:\n",
            "\n",
            "Title: Whispers of the Wicked Saints\n",
            "Row: Node ID: 26\n",
            "Text: 26.0\n",
            "Author(s): Veronica Haddon\n",
            "Price: $10.95\n",
            "Published Date: 2005-02\n",
            "Publisher: iUniverse\n",
            "Rating: 1 stars\n",
            "Review Summary: You've got to hand it to the author...\n",
            "Review Text: I purchased this book after reading rave reviews of it included within a review of a really good book I'd read. Apparently, the author (or her friends and family) are placing reviews of good books and encouraging people to buy this book if you liked the one they were reviewing. Great marketing by the author. However, the author should probably stick to marketing and give up the idea of being a writer. This book could have been written by a middle-schooler. It is a self-published, self-edited (and extremely poorly edited, I might add), and self-promoted lame excuse for a novel. My eyes rolled constantly while reading this book. Just when I thought it couldn't get worse...it did. The best part of this book is the short length. There is no substance, no character development, and the plot (if there actually is one) is pathetic. I generally trust the reviewers on Amazon. I really feel duped for purchasing this book after reading about it in Amazon's readers' reviews. Don't waste your money. The author should have printed only enough copies for family and friends. The rest of the population should be spared having to read this drivel.\n",
            "Source: Whispers of the Wicked Saints\n",
            "\n",
            "Title: Whispers of the Wicked Saints\n",
            "Row: Node ID: 15\n",
            "Text: 15.0\n",
            "Author(s): Veronica Haddon\n",
            "Price: $10.95\n",
            "Published Date: 2005-02\n",
            "Publisher: iUniverse\n",
            "Rating: 5 stars\n",
            "Review Summary: The truth about WOTWS\n",
            "Review Text: I have to say that my friends at work all read this book and loved it. It was brought to our attention that there are negative reviews on this book that are false. For example the traveling librarian? We had a discussion about this book at work and the review of the traveling librarian is completely false. I pulled out the book and realized that these are lies and that someone is trying to ruin this book. The book never states that a garden is ten miles long. On page 62 it clearly states that the garden is five acres. No heartbeat of a fetus was heard at a week. How could it be? Julia was not even aware of the pregnancy at that time. The preacher never went to the house to give condolences, after reading the book once again it is obvious that he was there to fix the barn. So...on and ect... I also looked at the reviews &lt;history> all but one of the bad reviews is writen by someone who has never reviewed a book on amazon before. Veronica Haddon if you are reading this you need to write a letter to Amazon. Someon is playing a prank on you !!\n",
            "Source: Whispers of the Wicked Saints\n",
            "\n",
            "Title: Whispers of the Wicked Saints\n",
            "Row: Node ID: 25\n",
            "Text: 25.0\n",
            "Author(s): Veronica Haddon\n",
            "Price: $10.95\n",
            "Published Date: 2005-02\n",
            "Publisher: iUniverse\n",
            "Rating: 1 stars\n",
            "Review Summary: Awful beyond belief!\n",
            "Review Text: I feel I have to write to keep others from wasting their money. This book seems to have been written by a 7th grader with poor grammatical skills for her age! As another reviewer points out, there is a misspelling on the cover, and I believe there is at least one per chapter. For example, it was mentioned twice that she had a \"lean\" on her house. I was so distracted by the poor writing and weak plot, that I decided to read with a pencil in hand to mark all of the horrible grammar and spelling. Please don't waste your money. I too, believe that the good reviews must have been written by the author's relatives. I will not put much faith in the reviews from now on!\n",
            "Source: Whispers of the Wicked Saints\n",
            "\n",
            "Title: Whispers of the Wicked Saints\n",
            "Row: Node ID: 1\n",
            "Text: 1.0\n",
            "Author(s): Veronica Haddon\n",
            "Price: $10.95\n",
            "Published Date: 2005-02\n",
            "Publisher: iUniverse\n",
            "Rating: 1 stars\n",
            "Review Summary: not good\n",
            "Review Text: I bought this book because I read some glowing praise on an online library site. Unfortunately, I was deeply disappointed by page three. I always buy books in the hope and expectation of having an enjoyable read, not to criticise. However, this book is in urgent need of good editing -- though quite possibly editing alone wouldn't save it. Examples: a bed squeaks slightly and sharply in the same sentence; a nightgown hangs freely over her girlish figure and olive colored complexion; coffee aromas huddle; rumbling clouds huddle (as well as the coffee?); she prepared to sip her coffee beneath the wrath of God... cuddled within the arms of a strong breeze; (the wrath of God is a breeze?); the Columbian (stet) coffee aroma danced beneath her sculpted tan nose; the coffee bean fragrance tangoed within her body; she placed her thick pink lips against the warm cup;... and so on, all by page three. It is quite possible that the storyline is deeply moving. I'll never know because I can't bring myself to continue. Sorry.\n",
            "Source: Whispers of the Wicked Saints\n",
            "\n",
            "Title: Whispers of the Wicked Saints\n",
            "Row: Node ID: 32\n",
            "Text: 32.0\n",
            "Author(s): Veronica Haddon\n",
            "Price: $10.95\n",
            "Published Date: 2005-02\n",
            "Publisher: iUniverse\n",
            "Rating: 1 stars\n",
            "Review Summary: awful beyond belief\n",
            "Review Text: I can't remember the last time I read such a dire book. I howled with laughter all the way through, wondering how much worse it could get - and sure enough, it got worse. If the writing is bad, the plot is ludicrous. A preacher comes to offer condolences the same afternoon that the heroine's husband is shot dead. Within moments they are having sex. The sex is not sensually treated or beautifully described - no, all they do is stick their tongues down each other's throats. The preacher goes to tell his paralysed wife. Her bizarre response - wait for it - is to stick her tongue down his throat. No wonder he veers away. The heroine runs off to work in the heart of Liverpool in a rose garden ten miles long (I kid you not). Did I mention she is dying? But never mind, she'll make a miraculous recovery. She meets another man - even though, conveniently, he's dying too, and she's pregnant by the preacher by now (and, oh joy, she hears the heartbeat of the fetus at a week... truly, a miracle)! The other man lives in castle and is very rich. Of course. They consumate their affair when she sticks her tongue down his throat. Not to worry, she doesn't have to perform this crude tonsil-tickling for long. The preacher turns up again. Everyone in the way drops dead, leaving the coast free for the \"wicked saints\" of the title to romp without blame or shame into the sunset.I could have kicked myself for buying this book; but I had been fooled by reading a mention of it by a so-called reviewer of The Mermaid Chair (which is a good book.) Then I checked all the other reviews done by reviewers of Ms Haddon's book (you can click on \"other reviews\" to see what I mean) and believe I have spotted a scam. The reviewers appear to have chosen the same half dozen best sellers to review -- each on the same day! - and in each review of these other genuinely good books they mention Wicked Saints in the most glowing terms. This is cynical piggy-back riding on bona fide books, made worse because this is a very badly edited (and badly written) self published book. I hope few people will be fooled as I was - and as Amazon has been. Be warned!\n",
            "Source: Whispers of the Wicked Saints\n",
            "\n",
            "Title: Whispers of the Wicked Saints\n",
            "Row: Node ID: 14\n",
            "Text: 14.0\n",
            "Author(s): Veronica Haddon\n",
            "Price: $10.95\n",
            "Published Date: 2005-02\n",
            "Publisher: iUniverse\n",
            "Rating: 1 stars\n",
            "Review Summary: The Worst!\n",
            "Review Text: A complete waste of time. Typographical errors, poor grammar, and a totally pathetic plot add up to absolutely nothing. I'm embarrassed for this author and very disappointed I actually paid for this book.\n",
            "Source: Whispers of the Wicked Saints\n",
            "\n",
            "Title: Whispers of the Wicked Saints\n",
            "Row: Node ID: 2\n",
            "Text: 2.0\n",
            "Author(s): Veronica Haddon\n",
            "Price: $10.95\n",
            "Published Date: 2005-02\n",
            "Publisher: iUniverse\n",
            "Rating: 4 stars\n",
            "Review Summary: Here is my opinion\n",
            "Review Text: I have to admit, I am not one to write reviews on book. I do however like to read them. Some of the reviews are great, some are cruel, but the reviews on this book were absolutlely hysterical. I read this book and after watching the war of the words I couldn't help, but to jump in. I am on the good side of the book. I loved how it kept my intersted. On the bad side I have to say, there was a typo featured on the back cover and the secret to liking this book is making it through the first chapter. I have to admit I was a little curious when I read some of the reviews. They were so mean and false that it spiked my curiosity. I then like the last review noticed that the \"Traveling librarian\" wrote a completely ignorant review on this book. My first thought was wait a minute, that was not the book that I read. I read my copy once again and realized her entire review was fabricated. Then I knew, it was some kind of game. Maybe it is someone who dislikes the author for personal reasons, that has posted more then one awful review, or maybe this is another who is jealous, Who knows? All I know is that I liked the book, and future readers take the advice of the ignorant with a grain of salt.\n",
            "Source: Whispers of the Wicked Saints\n",
            "\n",
            "Title: Whispers of the Wicked Saints\n",
            "Row: Node ID: 27\n",
            "Text: 27.0\n",
            "Author(s): Veronica Haddon\n",
            "Price: $10.95\n",
            "Published Date: 2005-02\n",
            "Publisher: iUniverse\n",
            "Rating: 1 stars\n",
            "Review Summary: You've got to be kidding!\n",
            "Review Text: It has been years since I've read a romance novel. If this is typical of the genre these days, I will never pick up another one. Not only is the plot contrived and juvenile, the writing shows the lack of skill expected only in a child's writing. Many of my seventh grade writing students would be embarrassed if this trash was attributed to them. \"The bed squeaked slightly, but her husband was unmoved by the sharp squeaks from the bed as well as the howling noises caused by the wind that were surrounding him.\" Were the squeaks slight or sharp, and were she and her husband sleeping outside that the wind could be howling around him not the house? This is just one mangled sentence in a book filled with such tripe. If my criticism seems harsh, it's because I actually paid money for this book. What a waste!I would suggest that Miss Haddon go back to Junior High School and begin a serious course of writing instruction. Perhaps by the time she graduates from college she will have gained an understanding of good sentence construction, proper punctuation, and the value of using adjectives sparingly. And if she reads a great deal along the way, she might also learn how to construct a plausible plot.\n",
            "Source: Whispers of the Wicked Saints\n",
            "\n",
            "Title: Whispers of the Wicked Saints\n",
            "Row: Node ID: 24\n",
            "Text: 24.0\n",
            "Author(s): Veronica Haddon\n",
            "Price: $10.95\n",
            "Published Date: 2005-02\n",
            "Publisher: iUniverse\n",
            "Rating: 1 stars\n",
            "Review Summary: Oh please\n",
            "Review Text: I guess you have to be a romance novel lover for this one, and not a very discerning one. All others beware! It is absolute drivel. I figured I was in trouble when a typo is prominently featured on the back cover, but the first page of the book removed all doubt. Wait - maybe I'm missing the point. A quick re-read of the beginning now makes it clear. This has to be an intentional churning of over-heated prose for satiric purposes. Phew, so glad I didn't waste $10.95 after all.\n",
            "Source: Whispers of the Wicked Saints\n",
            "\n",
            "Title: Whispers of the Wicked Saints\n",
            "Row: Node ID: 3\n",
            "Text: 3.0\n",
            "Author(s): Veronica Haddon\n",
            "Price: $10.95\n",
            "Published Date: 2005-02\n",
            "Publisher: iUniverse\n",
            "Rating: 1 stars\n",
            "Review Summary: Buyer beware\n",
            "Review Text: This is a self-published book, and if you want to know why--read a few paragraphs! Those 5 star reviews must have been written by Ms. Haddon's family and friends--or perhaps, by herself! I can't imagine anyone reading the whole thing--I spent an evening with the book and a friend and we were in hysterics reading bits and pieces of it to one another. It is most definitely bad enough to be entered into some kind of a \"worst book\" contest. I can't believe Amazon even sells this kind of thing. Maybe I can offer them my 8th grade term paper on \"To Kill a Mockingbird\"--a book I am quite sure Ms. Haddon never heard of. Anyway, unless you are in a mood to send a book to someone as a joke---stay far, far away from this one!\n",
            "Source: Whispers of the Wicked Saints\n"
          ]
        }
      ],
      "source": [
        "prettify_review(query_engine_hyde.query(\"What are the negative reviews for the book, Whispers of the Wicked Saints\"))"
      ]
    },
    {
      "cell_type": "code",
      "execution_count": null,
      "metadata": {
        "id": "6_qbVTnb5Hfh"
      },
      "outputs": [],
      "source": [
        "# Maximal Marginal Relevance (MMR)\n",
        "query_engine_mmr = index_vector.as_query_engine(vector_store_query_mode=\"mmr\",\n",
        "                                         similarity_top_k=5,\n",
        "                                          embed_model=OpenAIEmbedding(model=\"text-embedding-3-small\"),\n",
        "                                          llm=llm)"
      ]
    },
    {
      "cell_type": "code",
      "execution_count": null,
      "metadata": {
        "id": "WIfWYLzE5Zi0"
      },
      "outputs": [],
      "source": [
        "prettify_review(query_engine_mmr.query(\"What are the negative reviews for the book, Whispers of the Wicked Saints\"))"
      ]
    },
    {
      "cell_type": "code",
      "execution_count": null,
      "metadata": {
        "id": "4q66N83g5Jfd"
      },
      "outputs": [],
      "source": [
        "# HyDE + LLM Rerank\n",
        "query_engine_hyde_llm_rerank = TransformQueryEngine(query_engine_llm_rerank, hyde)"
      ]
    },
    {
      "cell_type": "code",
      "execution_count": 110,
      "metadata": {
        "colab": {
          "base_uri": "https://localhost:8080/"
        },
        "collapsed": true,
        "id": "gpl2WoWXx0fm",
        "outputId": "edba16a1-e0c2-4c35-ba04-af4f8ce4d752"
      },
      "outputs": [
        {
          "name": "stdout",
          "output_type": "stream",
          "text": [
            "Review Summary:\n",
            "The author of the book \"Whispers of the Wicked Saints\" is Veronica Haddon.\n",
            "\n",
            "Details:\n",
            "\n",
            "Title: Whispers of the Wicked Saints\n",
            "Row: Node ID: 21\n",
            "Text: 21.0\n",
            "Author(s): Veronica Haddon\n",
            "Price: $10.95\n",
            "Published Date: 2005-02\n",
            "Publisher: iUniverse\n",
            "Rating: 4 stars\n",
            "Review Summary: Wonderful, wonderful book !!\n",
            "Review Text: Just as predicted the first chapter of the book was long. I continued reading and then fell in love with WOTWS. It is heart warming and realistic. I thought it was a little depressing, but I quickly realized the writers point. There is a rainbow at the end of each storm. I did notice the error on the cover, but it only made me love the writer more. This writer is talented and she is not corporate, nor does it appear that she has a staff working for her. Her book was writen from the heart and that is what makes an American literary legend. I would rather read a book with an error then to read hollow perfection any day of the week.\n",
            "Source: Whispers of the Wicked Saints\n",
            "\n",
            "Title: Whispers of the Wicked Saints\n",
            "Row: Node ID: 12\n",
            "Text: 12.0\n",
            "Author(s): Veronica Haddon\n",
            "Price: $10.95\n",
            "Published Date: 2005-02\n",
            "Publisher: iUniverse\n",
            "Rating: 5 stars\n",
            "Review Summary: Whispers of the Wicked Saints\n",
            "Review Text: This was a easy to read book that made me want to keep reading on and on, not easy to put down.It left me wanting to read the follow on, which I hope is coming soon. I used to read a lot but have gotten away from it. This book made me want to read again. Very enjoyable.\n",
            "Source: Whispers of the Wicked Saints\n",
            "\n",
            "Title: Whispers of the Wicked Saints\n",
            "Row: Node ID: 20\n",
            "Text: 20.0\n",
            "Author(s): Veronica Haddon\n",
            "Price: $10.95\n",
            "Published Date: 2005-02\n",
            "Publisher: iUniverse\n",
            "Rating: 5 stars\n",
            "Review Summary: The best book I've read in years !!\n",
            "Review Text: This is a wonderful book that will keep you guessing. It is Rare to find a book that will make you laugh and cry at the same time and still leave you wondering what will happen next. What was even more amazing about it, is the fact that it is written in such a poetic way. This is a rare find and I look forward to the next book written by Veronica Haddon.\n",
            "Source: Whispers of the Wicked Saints\n",
            "\n",
            "Title: Whispers of the Wicked Saints\n",
            "Row: Node ID: 8\n",
            "Text: 8.0\n",
            "Author(s): Veronica Haddon\n",
            "Price: $10.95\n",
            "Published Date: 2005-02\n",
            "Publisher: iUniverse\n",
            "Rating: 5 stars\n",
            "Review Summary: Glorious story\n",
            "Review Text: I loved Whisper of the wicked saints. The story was amazing and I was pleasantly surprised at the changes in the book. I am not normaly someone who is into romance novels, but the world was raving about this book and so I bought it. I loved it !! This is a brilliant story because it is so true. This book was so wonderful that I have told all of my friends to read it. It is not a typical romance, it is so much more. Not reading this book is a crime, becuase you are missing out on a heart warming story.\n",
            "Source: Whispers of the Wicked Saints\n",
            "\n",
            "Title: Whispers of the Wicked Saints\n",
            "Row: Node ID: 28\n",
            "Text: 28.0\n",
            "Author(s): Veronica Haddon\n",
            "Price: $10.95\n",
            "Published Date: 2005-02\n",
            "Publisher: iUniverse\n",
            "Rating: 1 stars\n",
            "Review Summary: Don't try to fool us with fake reviews.\n",
            "Review Text: It's glaringly obvious that all of the glowing reviews have been written by the same person, perhaps the author herself. They all have the same misspellings and poor sentence structure that is featured in the book. Who made Veronica Haddon think she is an author?\n",
            "Source: Whispers of the Wicked Saints\n"
          ]
        }
      ],
      "source": [
        "prettify_review(query_engine_hyde_llm_rerank.query(\"Who is the author of the book Whispers of the Wicked Saints?\"))"
      ]
    },
    {
      "cell_type": "code",
      "execution_count": 28,
      "metadata": {
        "id": "DS79-SZB5lZw"
      },
      "outputs": [],
      "source": [
        "# Hyde + Cohere Rerank\n",
        "query_engine_hyde_cohere_rerank = TransformQueryEngine(query_engine_cohere_rerank, hyde)"
      ]
    },
    {
      "cell_type": "code",
      "execution_count": 30,
      "metadata": {
        "colab": {
          "base_uri": "https://localhost:8080/"
        },
        "collapsed": true,
        "id": "OEvkYOCv56vR",
        "outputId": "174034e5-7a61-4506-e478-43eec84d52f1"
      },
      "outputs": [
        {
          "name": "stdout",
          "output_type": "stream",
          "text": [
            "Review Summary:\n",
            "The reviewers who gave negative reviews for the book \"The Impatient Gardener's Lawn Book\" are Dorothy Muench and Dee Dixon.\n",
            "\n",
            "Details:\n",
            "\n",
            "Title: The Impatient Gardener's Lawn Book\n",
            "Row: Node ID: 75\n",
            "Text: 75.0\n",
            "Author(s): Jerry Baker\n",
            "Price: $12.95\n",
            "Published Date: 1987\n",
            "Publisher: Random House Digital, Inc.\n",
            "Rating: 1 stars\n",
            "Review Summary: Gardening lawn book\n",
            "Review Text: Four pages of the book was missing. It just happened to be the formulas that my husband needed. Fortunately he was able to copy our friends book. But I will hesitate to buy another book like this again.\n",
            "Source: The Impatient Gardener's Lawn Book\n",
            "\n",
            "Title: The Impatient Gardener's Lawn Book\n",
            "Row: Node ID: 72\n",
            "Text: 72.0\n",
            "Author(s): Jerry Baker\n",
            "Price: $12.95\n",
            "Published Date: 1987\n",
            "Publisher: Random House Digital, Inc.\n",
            "Rating: 4 stars\n",
            "Review Summary: Pretty good, although a few flaws\n",
            "Review Text: This is, all-around, a pretty good lawn book. However, there are a few cases where the advice is a little outdated given the latest research on the subject.One is the subject of using a mulching mower; research has shown that using a mulching mower does not contribute significantly to thatch buildup. Finely chopped grass clippings from lawn grasses decompose very rapidly. I guess you might get in trouble if you have lots of aggressive weed grasses that grow extremely rapidly, leaving much larger amounts of grass clippings. It is also possible that using a non-mulching mower could get you in trouble; it sounds like Mr. Baker might be using a reel mower, which doesn't pulverize the leaves. The research that I have seen studied the effects of using a mulching mower on lawn grass only, so if you have loads of tall weed grasses, or are using a non-mulching mower, you might have trouble.Another is the subject of aeration. From what I have read, spike aeration (Mr. Baker recommends the use of those spike aerator sandal things) is not very effective. Core aeration, which is admittedly more difficult and expensive, is what gets the best results, and is actually effective at controlling thatch.Here is one of the many pages on these subjects:[...]\n",
            "Source: The Impatient Gardener's Lawn Book\n",
            "\n",
            "Title: The Impatient Gardener's Lawn Book\n",
            "Row: Node ID: 77\n",
            "Text: 77.0\n",
            "Author(s): Jerry Baker\n",
            "Price: $12.95\n",
            "Published Date: 1987\n",
            "Publisher: Random House Digital, Inc.\n",
            "Rating: 4 stars\n",
            "Review Summary: Has many helpful tips if not a systematic guide\n",
            "Review Text: This book is not a detailed lawn program for lawn care. It is more or less a collection of articles and tips on lawn care. I certainly found many useful tips and helpful advice as I read through the book. However, in reading it front to back you will find that Mr. Baker differs in some small details from one presentation to the next, but his overall conception of what goes into a good lawn remains quite consistent throughout.Mr. Baker offers several of his famous tonics that I look forward to trying. Some of the advice seems a tad dated - he talks about buying things from Brookstone that aren't offered on their website anymore and he doesn't mention his own website www.jerrybaker.com that does offer many of them and more.The book discusses different types of grass and weeds, but doesn't offer much in the way of pictures. There are books that do and I find the pictures of the weeds very helpful in identifying them. But this book does offer state-by-state help on certain things and resources you can tap to get more information - very helpful.This book is certainly worthy the price I paid for it and I like the tips I picked up. It isn't perfect, but deserves a place on your shelf.\n",
            "Source: The Impatient Gardener's Lawn Book\n",
            "\n",
            "Title: The Impatient Gardener's Lawn Book\n",
            "Row: Node ID: 76\n",
            "Text: 76.0\n",
            "Author(s): Jerry Baker\n",
            "Price: $12.95\n",
            "Published Date: 1987\n",
            "Publisher: Random House Digital, Inc.\n",
            "Rating: 3 stars\n",
            "Review Summary: It might be easier to be green than you think!\n",
            "Review Text: I'm sure my fellow gardeners have noticed how a nicely tended strip of grass sets off a garden bed perfectly! Designers say our eyes need a place to rest before we can see all the beauty in front of us. Although most people make their New Years resolutions in December or January, I promise myself every July I am going to do something about my grass.....something other than dig it all up. We've all seen Jerry Baker on television spraying ammonia and dish soap all over his yard...I find it very intriguing. Jerry's book on lawn care has a ton of info to offer..and true enough it is a little hard to follow sometimes, but most people will not do everything anyway. For my poor lawn anything is an improvement, so if you are task-oriented, schedule based and really really care about your lawn this book should be very helpful. There are a lot of chemicals included in the regimen so beware if you like me avoid them. But there is a lot here that will be used on my own little patch of soon to be healthier grass. If you want more details, reviews of other gardening books or simple little garden musings.\n",
            "Source: The Impatient Gardener's Lawn Book\n",
            "\n",
            "Title: The Impatient Gardener's Lawn Book\n",
            "Row: Node ID: 73\n",
            "Text: 73.0\n",
            "Author(s): Jerry Baker\n",
            "Price: $12.95\n",
            "Published Date: 1987\n",
            "Publisher: Random House Digital, Inc.\n",
            "Rating: 5 stars\n",
            "Review Summary: Gardening Book\n",
            "Review Text: I bought this book as a present. They loved it. It was in perfect condiotion. This is one terrific backpack. Trust worthy seller. Will buy from again.\n",
            "Source: The Impatient Gardener's Lawn Book\n"
          ]
        }
      ],
      "source": [
        "prettify_review(query_engine_hyde_cohere_rerank.query(\"Who are the reviewers who gave a negative review for the book, The Impatient Gardeners Lawn book?\"))"
      ]
    },
    {
      "cell_type": "code",
      "execution_count": 87,
      "metadata": {
        "id": "H4q3AQuTF1ZJ"
      },
      "outputs": [],
      "source": [
        "# Multi Query\n",
        "vector_retriever = index_vector.as_retriever(similarity_top_k=10)\n",
        "retriever_multi_query = QueryFusionRetriever(\n",
        "    [vector_retriever],\n",
        "    similarity_top_k=10,\n",
        "    num_queries=5,\n",
        "    llm=llm,\n",
        "    mode=\"reciprocal_rerank\",\n",
        "    use_async=False,\n",
        "    verbose=True\n",
        ")\n",
        "query_engine_multi_query = RetrieverQueryEngine.from_args(retriever_multi_query,\n",
        "                                                          verbose=True,\n",
        "                                                          embed_model=OpenAIEmbedding(model=\"text-embedding-3-small\"),\n",
        "                                                          llm=llm)"
      ]
    },
    {
      "cell_type": "code",
      "execution_count": 88,
      "metadata": {
        "colab": {
          "base_uri": "https://localhost:8080/"
        },
        "collapsed": true,
        "id": "85vA8L-MTwuV",
        "outputId": "0358c6ee-e81d-415b-9562-06b060d99a06"
      },
      "outputs": [
        {
          "name": "stdout",
          "output_type": "stream",
          "text": [
            "Generated queries:\n",
            "1. \"Best-selling books published by Bloomsbury Publishers\"\n",
            "2. \"New releases from Bloomsbury Publishers\"\n",
            "3. \"Historical fiction books by Bloomsbury Publishers\"\n",
            "4. \"Award-winning books by Bloomsbury Publishers\"\n",
            "Review Summary:\n",
            "There are no books in the provided context information that are published by 'Bloomsbury Publishers'.\n",
            "\n",
            "Details:\n",
            "\n",
            "Title: Sultans of Swing - The Very Best of Dire Straits (Fretted)\n",
            "Author(s): Dire Straits\n",
            "Price: $17.9\n",
            "Published Date: 1999-04\n",
            "Publisher: Hal Leonard Corporation\n",
            "Rating: 1 stars\n",
            "Review Summary: poorly done !\n",
            "Review Text: Not sure what the other person was smoking when reviewing this book, but must be a beginner to Dire Straits. This was very poorly done. In many places, the tabs are incorrect. It looks like the transcriber just did what they thought or liked rather than validate it. I would not have bought this book if I had known how wrong it was. I suppose on a plus note it provides an alternate method. Also, the print it too small.Don't buy the book. There are free tabs on the internet that are closer to the way it was played.\n",
            "Source: Sultans of Swing - The Very Best of Dire Straits (Fretted)\n",
            "\n",
            "Title: Newsies\n",
            "Author(s): Alan Menken, Jack Feldman\n",
            "Price: $10.91\n",
            "Published Date: 2012\n",
            "Publisher: Hal Leonard Publishing Corporation\n",
            "Rating: 5 stars\n",
            "Review Summary: A pity it's no longer in print\n",
            "Review Text: I've owned this book since it first came out, and it's a must for any true fan of the film. It includes some pictures from the movie as well as the music and lyrics for &quot;Carrying The Banner,&quot; &quot;Santa Fe,&quot; &quot;My Lovey Dovey Baby,&quot; &quot;The World Will Know,&quot; &quot;Seize The Day,&quot; &quot;King of New York,&quot; &quot;High Times, Hard Times,&quot; and &quot;Once And For All.&quot; It's helped me with more than one performance, and I even used it to compose Newsies ringtones for my cell phone.On the down side, there ARE a few typos - from small things like spelling Spot's last name &quot;Conlan&quot; to more important transgressions like the complete lack of one chorus of &quot;Carrying The Banner.&quot; Still, I've always found it well worth the money.\n",
            "Source: Newsies\n",
            "\n",
            "Title: Newsies\n",
            "Author(s): Alan Menken, Jack Feldman\n",
            "Price: $10.91\n",
            "Published Date: 2012\n",
            "Publisher: Hal Leonard Publishing Corporation\n",
            "Rating: 5 stars\n",
            "Review Summary: Score true to movie\n",
            "Review Text: Many piano-vocal reductions for musicals are completely different from the original score. This one stays surprisingly true, though the left hand is missing a lot of interesting rhythms, and not many vocal harmonies are present. The keys of all songs are the same as the movie, and all intros, choruses, and verses are intact. Some of the interludes and dances are shortened or omitted, however. If you're looking for the karaoke CD, try iTunes.\n",
            "Source: Newsies\n",
            "\n",
            "Title: Mr. Timothy : A Novel (P.S.)\n",
            "Author(s): Louis Bayard\n",
            "Price: $6.0\n",
            "Published Date: 2009-10-06\n",
            "Publisher: Harper Collins\n",
            "Rating: 1 stars\n",
            "Review Summary: Two discs won't play.\n",
            "Review Text: Discs 6 and 11 won't play. Big damaged spots, you can see through the discs. Humbly request replacement or refund.\n",
            "Source: Mr. Timothy : A Novel (P.S.)\n",
            "\n",
            "Title: The Thin Red Line (BFI Film Classics)\n",
            "Author(s): Michel Chion, I. B. Tauris\n",
            "Price: $13.47\n",
            "Published Date: 2004\n",
            "Publisher: Macmillan\n",
            "Rating: 2 stars\n",
            "Review Summary: Plagued by fundamental problems\n",
            "Review Text: Terrence Malick's, 'The Thin Red Line' is one of my favorite films so I was excited to read Mr. Michel Chion's discussion of the film. I was pleasantly surprised to see Mr. Chion discuss elements of 'Thin Red Line' in relation to Malick's previous two films, 'Badlands' and 'Days of Heaven' as there are themes present in all three films. I also thought the author did a good job in discussing the distance between characters (whether it be in relation to the dialogue, or the way Mr. Malick chose to frame his shots) as well as man's distance between ourselves and nature.My biggest problem with Mr. Chion's book has to do with the voice-overs (or monologues) that populate 'The Thin Red Line'. The monologues in the film are incredibly important, which Mr. Chion admits, indeed, he spends much of the book relating the monologues to what is, or is not, happening on-screen. He also attempts to penetrate the meaning of these statements as they relate to the 'bigger picture' (love, death, life etc.) However, Mr. Chion's problem is that he does not credit the monologue with the actual character who is speaking it.I'm not sure if the mix-up is due to Mr. Chion being French and that perhaps he saw a dubbed version of the film, or was just unable to tell the accents apart, but the North American DVD release of the film, does tell the viewer (if the subtitles are turned on) who is speaking the monologues. As well, if you listen carefully, you can hear the subtle differences in voice between the characters of Private Witt (Jim Caviezal) and the speaker of the majority of the monologues, Private Edward Train (John Dee Smith).Many of you may think, 'so what?' Does it matter who spoke the monologue/voice-over or does it matter what the monologue says? I agree, WHAT is said, is more important then WHO said it, generally. But Mr. Chion's discussion, indeed his thesis, is severely hampered by his mistake as to the monologues.For example, Mr. Chion spends a great deal of time breaking down the ending of the film, and the final voice-over found at the conclusion (the one that contains the phrase 'look out at the things you made, all things shining.') He states that a disembodied Pvt. Witt makes the statement (an honest mistake perhaps, as both Witt and Train have deep southern accents) when in fact it is Train that makes the speech. Chion believes that Witt is the central character in the film and that we are, perhaps, trying to understand the relation between war and nature, through him. Dead at the end of the film, Witt can reflect back on what has happened.The problem is that Train (the young soldier at the end who says something to the effect of, 'I've been through the think and thin of it...') makes the 'big' statement, changing the meaning of Witt (as Chion sees him) and introducing another character into the discussion (Pvt. Train). Again, because Chion spends so much time on Witt and the monologues, their importance is front and centre. But because he cannot tell the speakers apart, his view as to the meaning of the film is hampered (and dare I say, incorrect).I value the attempt of Mr. Chion in this book, and in general, the other books in the BFI Modern Classics series, but the fundamental failure of the author to attribute the monologues to their owners, cripples this book's power.J. Adams\n",
            "Source: The Thin Red Line (BFI Film Classics)\n",
            "\n",
            "Title: Mr. Timothy : A Novel (P.S.)\n",
            "Author(s): Louis Bayard\n",
            "Price: $6.0\n",
            "Published Date: 2009-10-06\n",
            "Publisher: Harper Collins\n",
            "Rating: 3 stars\n",
            "Review Summary: Entertaining but poorly edited, researched\n",
            "Review Text: This book will be most appealing to those who know least about 19th-Century England. It's an entertaining story marred by scores of obvious mistakes--Bayard undertook the very ambitious project of writing in Victorian English, and his language often rings false to my ears. A typical example is the use of \"fall\" for autumn, which is quite rare in British English except for the expressions \"spring and fall\" and \"fall of the year.\" And his Cockney characters add an \"s\" to infinitives, which I have never heard of in any dialect of English. Bayard also seems to think that a belief in the Trinity is characteristic of \"papists\" as opposed to Anglicans.Of course, lots of people won't notice or won't care about such things, and they should find Mr. Timothy engaging, if somewhat conventionally melodramatic toward the end. For me, this novel increases my respect for real pros like Patrick O'Brian.\n",
            "Source: Mr. Timothy : A Novel (P.S.)\n",
            "\n",
            "Title: Not Fade Away: A Backstage Pass to 20 Years of Rock & Roll\n",
            "Author(s): Ben Fong-Torres\n",
            "Price: $12.68\n",
            "Published Date: 1999\n",
            "Publisher: Backbeat Books\n",
            "Rating: 3 stars\n",
            "Review Summary: A little disappointing but maybe it was my fault\n",
            "Review Text: I bought this book after seeing Cameron Crowe's &quot;Almost Famous&quot;. That was an exceptional movie and I thought I would relive the era through Ben fong-Torres, who was featured in the movie.The book is really a reprint of many of his stories in Rolling Stone which the reviews probably stated and I didn't focus on. I would have preferred his story of being close to the Rock and Roll scene. Reading some of the articles that were over 20 years old became somewhat boring and outdated. I did learn quite a bit in some of the stories and Fong-Torres does provide some narrative on each story although it is limited. Overall though, I'd take a pass on this one and look for another if you are looking for a good book about rock in the 70's and 80's.\n",
            "Source: Not Fade Away: A Backstage Pass to 20 Years of Rock & Roll\n",
            "\n",
            "Title: Not Fade Away: A Backstage Pass to 20 Years of Rock & Roll\n",
            "Author(s): Ben Fong-Torres\n",
            "Price: $12.68\n",
            "Published Date: 1999\n",
            "Publisher: Backbeat Books\n",
            "Rating: 3 stars\n",
            "Review Summary: Check the Table of Contents Before Purchasing\n",
            "Review Text: Fong-Torres is a talented writer, but readers who are interested in rock 'n' roll history may wish to skip this book's chapters on people like Diane Keaton, Neil Diamond, Annie Leibovitz, Tom Hanks, Eddie Murphy, and (!) Rodney Dangerfield. (Steve Martin's is worth reading, however.)Not to worry, though, this volume does contain actual interviews and profiles with music industry folks like Ricky Nelson, Three Dog Night, and Dick Clark. You can probably see the problem with this book's title and cover image by now. And you might understand why I got excited when I came to the book's piece on Iggy Pop. Unfortunately, it was just a two-page description of an appearance Iggy did at a Tower Records.Drat.\n",
            "Source: Not Fade Away: A Backstage Pass to 20 Years of Rock & Roll\n",
            "\n",
            "Title: Introductory Circuits for Electrical and Computer Engineering\n",
            "Author(s): James William Nilsson, Susan A. Riedel\n",
            "Price: $126.0\n",
            "Published Date: 2002\n",
            "Publisher: Pearson\n",
            "Rating: 1 stars\n",
            "Review Summary: Required for course\n",
            "Review Text: This book was required for a course, and the previous reviewers are correct...this book sucks. Also, I ordered the hardcover edition of this book, yet amazon in it's infinite wisdom (or is that total stupidity) sent me the softcover edition. Three weeks into the course and the binding is failing. Can't return the book because I need to have it in class, and I refuse to spend more money with a company that is unable to fulfill a simple order. Amazon, you suck at least as much as this book does! Perhaps Barnes and Noble will know the difference between hardcover and softcover.\n",
            "Source: Introductory Circuits for Electrical and Computer Engineering\n",
            "\n",
            "Title: Sultans of Swing - The Very Best of Dire Straits (Fretted)\n",
            "Author(s): Dire Straits\n",
            "Price: $17.9\n",
            "Published Date: 1999-04\n",
            "Publisher: Hal Leonard Corporation\n",
            "Rating: 5 stars\n",
            "Review Summary: Very good book, minor flaws.\n",
            "Review Text: This is a very good book with some of the most well-known songs by Dire Straits. The songs are in the right keys. I found that it was worth the price if only for the Romeo and Juliet tab. This song uses an alternate tuning that you won't find on free internet tabs. The only trick you have to know is to tune lower and capo at fret 3, then you're set to play it the way Mark Knopfler does. Of course, Dire Straits is recommended for, at least, intermediate guitarists. I put myself in that group. Advanced players will have fun on Sultans of Swing, Tunnel of Love and all soli. Some tablatures are less easy to read. They seem to come from magazines and the notation (bends, slides) is different. Unfortunately, the tabs are really for the Sultans of Swing compilation, i.e. shorter versions of the songs. For instance, many bars are missing for the beginning and last solo of Brothers in arms compared to the version of the eponymous album. Still, it's a lot of fun and practice, even for the rhythm chords.\n",
            "Source: Sultans of Swing - The Very Best of Dire Straits (Fretted)\n"
          ]
        }
      ],
      "source": [
        "prettify_review(query_engine_multi_query.query(\"List the books that are published by 'Bloomsbury Publishers'\"))"
      ]
    }
  ],
  "metadata": {
    "colab": {
      "provenance": []
    },
    "kernelspec": {
      "display_name": "Python 3",
      "name": "python3"
    },
    "language_info": {
      "name": "python"
    }
  },
  "nbformat": 4,
  "nbformat_minor": 0
}
